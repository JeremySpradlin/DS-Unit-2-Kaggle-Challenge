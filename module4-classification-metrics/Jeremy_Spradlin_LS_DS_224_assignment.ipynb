{
  "nbformat": 4,
  "nbformat_minor": 0,
  "metadata": {
    "kernelspec": {
      "display_name": "Python 3",
      "language": "python",
      "name": "python3"
    },
    "language_info": {
      "codemirror_mode": {
        "name": "ipython",
        "version": 3
      },
      "file_extension": ".py",
      "mimetype": "text/x-python",
      "name": "python",
      "nbconvert_exporter": "python",
      "pygments_lexer": "ipython3",
      "version": "3.7.3"
    },
    "colab": {
      "name": "Jeremy Spradlin LS_DS_224_assignment.ipynb",
      "provenance": [],
      "include_colab_link": true
    }
  },
  "cells": [
    {
      "cell_type": "markdown",
      "metadata": {
        "id": "view-in-github",
        "colab_type": "text"
      },
      "source": [
        "<a href=\"https://colab.research.google.com/github/JeremySpradlin/DS-Unit-2-Kaggle-Challenge/blob/master/module4-classification-metrics/Jeremy_Spradlin_LS_DS_224_assignment.ipynb\" target=\"_parent\"><img src=\"https://colab.research.google.com/assets/colab-badge.svg\" alt=\"Open In Colab\"/></a>"
      ]
    },
    {
      "cell_type": "markdown",
      "metadata": {
        "id": "PnHp234tx4ya",
        "colab_type": "text"
      },
      "source": [
        "Lambda School Data Science\n",
        "\n",
        "*Unit 2, Sprint 2, Module 4*\n",
        "\n",
        "---"
      ]
    },
    {
      "cell_type": "markdown",
      "metadata": {
        "colab_type": "text",
        "id": "nCc3XZEyG3XV"
      },
      "source": [
        "# Classification Metrics\n",
        "\n",
        "## Assignment\n",
        "- [ ] If you haven't yet, [review requirements for your portfolio project](https://lambdaschool.github.io/ds/unit2), then submit your dataset.\n",
        "- [ ] Plot a confusion matrix for your Tanzania Waterpumps model.\n",
        "- [ ] Continue to participate in our Kaggle challenge. Every student should have made at least one submission that scores at least 70% accuracy (well above the majority class baseline).\n",
        "- [ ] Submit your final predictions to our Kaggle competition. Optionally, go to **My Submissions**, and _\"you may select up to 1 submission to be used to count towards your final leaderboard score.\"_\n",
        "- [ ] Commit your notebook to your fork of the GitHub repo.\n",
        "- [ ] Read [Maximizing Scarce Maintenance Resources with Data: Applying predictive modeling, precision at k, and clustering to optimize impact](http://archive.is/DelgE), by Lambda DS3 student Michael Brady. His blog post extends the Tanzania Waterpumps scenario, far beyond what's in the lecture notebook.\n",
        "\n",
        "\n",
        "## Stretch Goals\n",
        "\n",
        "### Reading\n",
        "\n",
        "- [Attacking discrimination with smarter machine learning](https://research.google.com/bigpicture/attacking-discrimination-in-ml/), by Google Research, with  interactive visualizations. _\"A threshold classifier essentially makes a yes/no decision, putting things in one category or another. We look at how these classifiers work, ways they can potentially be unfair, and how you might turn an unfair classifier into a fairer one. As an illustrative example, we focus on loan granting scenarios where a bank may grant or deny a loan based on a single, automatically computed number such as a credit score.\"_\n",
        "- [Notebook about how to calculate expected value from a confusion matrix by treating it as a cost-benefit matrix](https://github.com/podopie/DAT18NYC/blob/master/classes/13-expected_value_cost_benefit_analysis.ipynb)\n",
        "- [Visualizing Machine Learning Thresholds to Make Better Business Decisions](https://blog.insightdatascience.com/visualizing-machine-learning-thresholds-to-make-better-business-decisions-4ab07f823415)\n",
        "\n",
        "\n",
        "### Doing\n",
        "- [ ] Share visualizations in our Slack channel!\n",
        "- [ ] RandomizedSearchCV / GridSearchCV, for model selection. (See module 3 assignment notebook)\n",
        "- [ ] Stacking Ensemble. (See module 3 assignment notebook)\n",
        "- [ ] More Categorical Encoding. (See module 2 assignment notebook)"
      ]
    },
    {
      "cell_type": "code",
      "metadata": {
        "colab_type": "code",
        "id": "lsbRiKBoB5RE",
        "colab": {}
      },
      "source": [
        "%%capture\n",
        "import sys\n",
        "\n",
        "# If you're on Colab:\n",
        "if 'google.colab' in sys.modules:\n",
        "    DATA_PATH = 'https://raw.githubusercontent.com/LambdaSchool/DS-Unit-2-Kaggle-Challenge/master/data/'\n",
        "    !pip install category_encoders==2.*\n",
        "\n",
        "# If you're working locally:\n",
        "else:\n",
        "    DATA_PATH = '../data/'"
      ],
      "execution_count": null,
      "outputs": []
    },
    {
      "cell_type": "code",
      "metadata": {
        "colab_type": "code",
        "id": "BVA1lph8CcNX",
        "colab": {}
      },
      "source": [
        "import pandas as pd\n",
        "\n",
        "# Merge train_features.csv & train_labels.csv\n",
        "train = pd.merge(pd.read_csv(DATA_PATH+'waterpumps/train_features.csv'), \n",
        "                 pd.read_csv(DATA_PATH+'waterpumps/train_labels.csv'))\n",
        "\n",
        "# Read test_features.csv & sample_submission.csv\n",
        "test = pd.read_csv(DATA_PATH+'waterpumps/test_features.csv')\n",
        "sample_submission = pd.read_csv(DATA_PATH+'waterpumps/sample_submission.csv')"
      ],
      "execution_count": null,
      "outputs": []
    },
    {
      "cell_type": "markdown",
      "metadata": {
        "id": "SUL1WQ5x3Bqv",
        "colab_type": "text"
      },
      "source": [
        "# Imports"
      ]
    },
    {
      "cell_type": "code",
      "metadata": {
        "id": "hp3JEKmd3Da5",
        "colab_type": "code",
        "colab": {}
      },
      "source": [
        "#Imports\n",
        "%matplotlib inline\n",
        "from pandas_profiling import ProfileReport\n",
        "\n",
        "from sklearn.model_selection import train_test_split, GridSearchCV, RandomizedSearchCV\n",
        "from sklearn.pipeline import make_pipeline\n",
        "from sklearn.impute import SimpleImputer\n",
        "from sklearn.preprocessing import StandardScaler, FunctionTransformer\n",
        "from sklearn.ensemble import RandomForestClassifier\n",
        "from sklearn.feature_selection import SelectKBest, f_regression\n",
        "from sklearn.metrics import plot_confusion_matrix, classification_report, accuracy_score\n",
        "\n",
        "from category_encoders import OneHotEncoder, OrdinalEncoder, TargetEncoder\n",
        "\n",
        "import numpy as np\n",
        "from scipy.stats import randint, uniform\n",
        "import matplotlib as plt"
      ],
      "execution_count": null,
      "outputs": []
    },
    {
      "cell_type": "markdown",
      "metadata": {
        "id": "5bGmEFhKx4yy",
        "colab_type": "text"
      },
      "source": [
        "# Train-Validate-Test Split"
      ]
    },
    {
      "cell_type": "code",
      "metadata": {
        "id": "mv_J6kiV2-qI",
        "colab_type": "code",
        "colab": {
          "base_uri": "https://localhost:8080/",
          "height": 34
        },
        "outputId": "98bbb549-b7c2-4290-da5f-301551b48088"
      },
      "source": [
        "#Perform our train/test/split on the data\n",
        "train, val  = train_test_split(train, train_size=0.8, test_size=0.2, stratify=train['status_group'], random_state=42)\n",
        "train.shape, val.shape, test.shape"
      ],
      "execution_count": null,
      "outputs": [
        {
          "output_type": "execute_result",
          "data": {
            "text/plain": [
              "((47520, 41), (11880, 41), (14358, 40))"
            ]
          },
          "metadata": {
            "tags": []
          },
          "execution_count": 20
        }
      ]
    },
    {
      "cell_type": "markdown",
      "metadata": {
        "id": "Jl3ACZeH3AZX",
        "colab_type": "text"
      },
      "source": [
        "# Baseline"
      ]
    },
    {
      "cell_type": "code",
      "metadata": {
        "id": "l5q2AGHq3JzA",
        "colab_type": "code",
        "colab": {
          "base_uri": "https://localhost:8080/",
          "height": 85
        },
        "outputId": "4368b5cd-647f-487d-e4ba-49750b9b2319"
      },
      "source": [
        "train['status_group'].value_counts()"
      ],
      "execution_count": null,
      "outputs": [
        {
          "output_type": "execute_result",
          "data": {
            "text/plain": [
              "functional                 25807\n",
              "non functional             18259\n",
              "functional needs repair     3454\n",
              "Name: status_group, dtype: int64"
            ]
          },
          "metadata": {
            "tags": []
          },
          "execution_count": 21
        }
      ]
    },
    {
      "cell_type": "code",
      "metadata": {
        "id": "yZCU-Eet3Lwq",
        "colab_type": "code",
        "colab": {
          "base_uri": "https://localhost:8080/",
          "height": 34
        },
        "outputId": "67dbf8c9-b51f-48a0-f298-7082ed582f20"
      },
      "source": [
        "baseline = (25807 / (25807 + 18259 + 3454))\n",
        "\n",
        "print('Our naive baseline is: ', baseline)"
      ],
      "execution_count": null,
      "outputs": [
        {
          "output_type": "stream",
          "text": [
            "Our naive baseline is:  0.5430765993265994\n"
          ],
          "name": "stdout"
        }
      ]
    },
    {
      "cell_type": "markdown",
      "metadata": {
        "id": "TPk_3mMA3OxW",
        "colab_type": "text"
      },
      "source": [
        "# Wrangle Data Function"
      ]
    },
    {
      "cell_type": "code",
      "metadata": {
        "id": "4fkfbVmx3S5a",
        "colab_type": "code",
        "colab": {}
      },
      "source": [
        "#Create a function to wrangle our data by fixing the null island values in the geo data as well as \n",
        "#remove any redundant columns\n",
        "def wrangle_data(X):\n",
        "  \"\"\"Function for wrangling all of our data sets in the same manner\"\"\"\n",
        "\n",
        "  #Prevent a SettingWithCopyWarning\n",
        "  X = X.copy()\n",
        "\n",
        "  #Replace the near-0 values in latitude with 0's for easier handling\n",
        "  X['latitude'] = X['latitude'].replace(-2e-08, 0)\n",
        "\n",
        "  #Now we will replace the 0's with null values for easier handling\n",
        "  cols_with_zeros = ['longitude', 'latitude', 'construction_year',\n",
        "                     'gps_height', 'population']\n",
        "  for col in cols_with_zeros:\n",
        "    X[col] = X[col].replace(0, np.nan)\n",
        "    X[col+'_MISSING'] = X[col].isnull()\n",
        "\n",
        "  #Drop redundant or non-useful columns\n",
        "  red_cols = ['quantity_group', 'payment_type', 'recorded_by', 'id']\n",
        "  X = X.drop(columns=red_cols)\n",
        "\n",
        "  #Convert date_recorded to a datetime object\n",
        "  X['date_recorded'] = pd.to_datetime(X['date_recorded'], infer_datetime_format = True)\n",
        "\n",
        "  #Extract the date elements and then drop the original date/time column\n",
        "  X['year_recorded'] = X['date_recorded'].dt.year\n",
        "  X['month_recorded'] = X['date_recorded'].dt.month\n",
        "  X['day_recorded'] = X['date_recorded'].dt.day\n",
        "  X = X.drop(columns='date_recorded')\n",
        "\n",
        "  #Engineering new features\n",
        "  X['years'] = X['year_recorded'] - X['construction_year']\n",
        "  X['years_MISSING'] = X['years'].isnull()\n",
        "\n",
        "  #Return the wrangled dataframe\n",
        "  return X\n"
      ],
      "execution_count": null,
      "outputs": []
    },
    {
      "cell_type": "code",
      "metadata": {
        "id": "eSMhAxHo58zp",
        "colab_type": "code",
        "colab": {}
      },
      "source": [
        "#Create a function that will select our features and control for high cardinality\n",
        "\n",
        "def create_features(X):\n",
        "  \n",
        "  #Create our target\n",
        "  target = 'status_group'\n",
        "\n",
        "  #Strip out the targed and id columns\n",
        "  train_features = train.drop(columns=[target])\n",
        "\n",
        "  #Get a list of the numeric features\n",
        "  numeric_features = train_features.select_dtypes(include='number').columns.tolist()\n",
        "\n",
        "  #Get a series with the cardinality of the nonnumeric features\n",
        "  cardinality = train_features.select_dtypes(exclude='number').nunique()\n",
        "\n",
        "  #Create a list of all nonnumeric features with a cardinality less than 50\n",
        "  categorical_features = cardinality[cardinality <= 50].index.tolist()\n",
        "\n",
        "  #Combine the lists\n",
        "  features = numeric_features + categorical_features\n",
        "\n",
        "  return features\n",
        "\n"
      ],
      "execution_count": null,
      "outputs": []
    },
    {
      "cell_type": "code",
      "metadata": {
        "id": "_EATCTCD7lsj",
        "colab_type": "code",
        "colab": {
          "base_uri": "https://localhost:8080/",
          "height": 34
        },
        "outputId": "a51d029e-7592-4a4c-cd4a-9939b9455e95"
      },
      "source": [
        "#Create our features and perform the final split on our data into Feature matrices and target vectors\n",
        "target = 'status_group'\n",
        "features = create_features(train)\n",
        "\n",
        "X_train = train.drop(columns=target)\n",
        "y_train = train[target]\n",
        "X_val = val.drop(columns=target)\n",
        "y_val = val[target]\n",
        "X_test = test\n",
        "\n",
        "X_train.shape, y_train.shape, X_val.shape, y_val.shape, X_test.shape, y_val.shape"
      ],
      "execution_count": null,
      "outputs": [
        {
          "output_type": "execute_result",
          "data": {
            "text/plain": [
              "((47520, 40), (47520,), (11880, 40), (11880,), (14358, 40), (11880,))"
            ]
          },
          "metadata": {
            "tags": []
          },
          "execution_count": 25
        }
      ]
    },
    {
      "cell_type": "markdown",
      "metadata": {
        "id": "L70YWkN-8ZMk",
        "colab_type": "text"
      },
      "source": [
        "# Create our pipeline"
      ]
    },
    {
      "cell_type": "code",
      "metadata": {
        "id": "xMa7ztRs8zia",
        "colab_type": "code",
        "colab": {}
      },
      "source": [
        "#Make our pipeline\n",
        "\n",
        "model = make_pipeline(\n",
        "    FunctionTransformer(wrangle_data, validate=False),\n",
        "    OrdinalEncoder(),\n",
        "    SimpleImputer(strategy='mean'),\n",
        "    RandomForestClassifier(criterion='entropy', max_depth=50, n_estimators=200, min_samples_leaf=1, random_state=42)\n",
        ")"
      ],
      "execution_count": null,
      "outputs": []
    },
    {
      "cell_type": "code",
      "metadata": {
        "id": "H3xdS9kW9neB",
        "colab_type": "code",
        "colab": {}
      },
      "source": [
        "#Fit the data to our model\n",
        "%%time\n",
        "\n",
        "model.fit(X_train, y_train)\n",
        "print('training accuracy:', model.score(X_train, y_train))\n",
        "print('validation accuracy:', model.score(X_val, y_val))"
      ],
      "execution_count": null,
      "outputs": []
    },
    {
      "cell_type": "markdown",
      "metadata": {
        "id": "M49aaPbS93ZJ",
        "colab_type": "text"
      },
      "source": [
        "# Confusion matrix"
      ]
    },
    {
      "cell_type": "code",
      "metadata": {
        "id": "TqBpJVT5KteG",
        "colab_type": "code",
        "colab": {}
      },
      "source": [
        "y_pred = model.predict(X_val)\n",
        "print('Validation Accuracy: ', accuracy_score(y_val, y_pred))"
      ],
      "execution_count": null,
      "outputs": []
    },
    {
      "cell_type": "code",
      "metadata": {
        "id": "LClRZnOsDomc",
        "colab_type": "code",
        "colab": {}
      },
      "source": [
        "#Create our confusion matrix on our validation data\n",
        "\n",
        "plt.rcParams['figure.dpi'] = 125\n",
        "\n",
        "plot_confusion_matrix(model, X_val, y_val, values_format='.0f', xticks_rotation='vertical')\n"
      ],
      "execution_count": null,
      "outputs": []
    },
    {
      "cell_type": "markdown",
      "metadata": {
        "id": "-dQxNfviJFhx",
        "colab_type": "text"
      },
      "source": [
        "# Stretch Goals\n",
        "\n",
        "Below will be our stretch goals: \n",
        "\n",
        "- Using a grid search to determine the best hyperparameters for use in our model.\n",
        "- Stacking Ensemble\n",
        "- More? Categorical Encoding\n",
        "- Create visuals to share on Slack"
      ]
    },
    {
      "cell_type": "code",
      "metadata": {
        "id": "P9vLva83vD2S",
        "colab_type": "code",
        "colab": {}
      },
      "source": [
        "#Create a new pipeline to work with on grid search\n",
        "model = make_pipeline(\n",
        "    FunctionTransformer(wrangle_data, validate=False),\n",
        "    OrdinalEncoder(),\n",
        "    SimpleImputer(strategy='mean'),\n",
        "    StandardScaler(),\n",
        "    RandomForestClassifier(criterion='entropy')\n",
        ")\n",
        "\n",
        "#Stored static variables below:\n",
        "#, max_depth=50, n_estimators=200, min_samples_leaf=1, random_state=42"
      ],
      "execution_count": null,
      "outputs": []
    },
    {
      "cell_type": "code",
      "metadata": {
        "id": "s8T9rSu7YyHh",
        "colab_type": "code",
        "colab": {}
      },
      "source": [
        "#Create and use our grid search\n",
        "#Create our param_dist to use for searching\n",
        "param_dist = {\n",
        "    'randomforestclassifier__n_estimators': [50, 100, 150, 200, 250, 300],\n",
        "    'randomforestclassifier__max_depth': [5, 10, 15, 20, 25, 30, 35, 40, None], \n",
        "    'randomforestclassifier__max_features': [.1, .25, .50, .75, 1],\n",
        "}"
      ],
      "execution_count": null,
      "outputs": []
    },
    {
      "cell_type": "code",
      "metadata": {
        "id": "azQchlPuZNpo",
        "colab_type": "code",
        "colab": {}
      },
      "source": [
        "search = GridSearchCV(\n",
        "    model,\n",
        "    param_grid=param_dist,\n",
        "    cv=3,\n",
        "    scoring='accuracy',\n",
        "    verbose=10,\n",
        "    return_train_score=True,\n",
        "    n_jobs=-1\n",
        ")"
      ],
      "execution_count": null,
      "outputs": []
    },
    {
      "cell_type": "code",
      "metadata": {
        "id": "SVAIFnJFa2eg",
        "colab_type": "code",
        "colab": {}
      },
      "source": [
        "search.fit(X_train, y_train)"
      ],
      "execution_count": null,
      "outputs": []
    },
    {
      "cell_type": "code",
      "metadata": {
        "id": "esQuUQRBbZ27",
        "colab_type": "code",
        "colab": {}
      },
      "source": [
        "print('training accuracy:', search.score(X_train, y_train))\n",
        "print('validation accuracy:', search.score(X_val, y_val))"
      ],
      "execution_count": null,
      "outputs": []
    },
    {
      "cell_type": "code",
      "metadata": {
        "id": "EGmu4cnTc6xN",
        "colab_type": "code",
        "colab": {}
      },
      "source": [
        "model"
      ],
      "execution_count": null,
      "outputs": []
    },
    {
      "cell_type": "code",
      "metadata": {
        "id": "eFQH2e7edI91",
        "colab_type": "code",
        "colab": {}
      },
      "source": [
        ""
      ],
      "execution_count": null,
      "outputs": []
    }
  ]
}